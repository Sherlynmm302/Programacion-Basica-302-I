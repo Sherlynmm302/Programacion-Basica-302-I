{
  "nbformat": 4,
  "nbformat_minor": 0,
  "metadata": {
    "colab": {
      "provenance": [],
      "authorship_tag": "ABX9TyNXUeOm+m7JFtp21GPqujox",
      "include_colab_link": true
    },
    "kernelspec": {
      "name": "python3",
      "display_name": "Python 3"
    },
    "language_info": {
      "name": "python"
    }
  },
  "cells": [
    {
      "cell_type": "markdown",
      "metadata": {
        "id": "view-in-github",
        "colab_type": "text"
      },
      "source": [
        "<a href=\"https://colab.research.google.com/github/Sherlynmm302/Programacion-Basica-302-I/blob/main/ActLab1.ipynb\" target=\"_parent\"><img src=\"https://colab.research.google.com/assets/colab-badge.svg\" alt=\"Open In Colab\"/></a>"
      ]
    },
    {
      "cell_type": "markdown",
      "source": [
        "Actividad de Laboratorio 1 Impresion de Mensajes"
      ],
      "metadata": {
        "id": "AN7PsUAyxhqw"
      }
    },
    {
      "cell_type": "markdown",
      "source": [
        "PB302_1.cpp Programa Para Bienvenida"
      ],
      "metadata": {
        "id": "ai1c3ZWSnNkt"
      }
    },
    {
      "cell_type": "code",
      "source": [
        "%%writefile PB302_1.cpp\n",
        "//Programa para imprimir mensaje de bienvenida\n",
        "//Creado por Sherlyn Monsivais Montoya\n",
        "//Fecha: 15/septiembre/2025\n",
        "//PB302_1.cpp\n",
        "#include <iostream>\n",
        "using namespace std;\n",
        "int main()\n",
        "{\n",
        "  cout<<\"Bienvenidos a Programacion Basica en C++\\n\";\n",
        "  cout<<\"Gracias por Programar en clase\";\n",
        "  return 0;\n",
        "}"
      ],
      "metadata": {
        "colab": {
          "base_uri": "https://localhost:8080/"
        },
        "id": "UpiMmZrknDjl",
        "outputId": "7f35e2cf-7a4e-4d75-a550-cdfc2fcf934e"
      },
      "execution_count": 3,
      "outputs": [
        {
          "output_type": "stream",
          "name": "stdout",
          "text": [
            "Overwriting PB302_1.cpp\n"
          ]
        }
      ]
    },
    {
      "cell_type": "code",
      "source": [
        "!g++ PB302_1.cpp -o PB302_1\n",
        "!./PB302_1"
      ],
      "metadata": {
        "colab": {
          "base_uri": "https://localhost:8080/"
        },
        "id": "iZTu6DVPpx--",
        "outputId": "8bbb79b2-88ae-41cd-8beb-f9ef63999ebb"
      },
      "execution_count": 4,
      "outputs": [
        {
          "output_type": "stream",
          "name": "stdout",
          "text": [
            "Bienvenidos a Programacion Basica en C++\n",
            "Gracias por Programar en clase"
          ]
        }
      ]
    }
  ]
}